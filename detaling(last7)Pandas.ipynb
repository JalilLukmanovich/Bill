{
 "cells": [
  {
   "cell_type": "code",
   "execution_count": 5,
   "metadata": {},
   "outputs": [],
   "source": [
    "import pandas as pd\n",
    "import json"
   ]
  },
  {
   "cell_type": "code",
   "execution_count": 4,
   "metadata": {},
   "outputs": [],
   "source": [
    "#Bill1 = pd.read_csv('Bill.csv')\n",
    "#Bill1"
   ]
  },
  {
   "cell_type": "code",
   "execution_count": 3,
   "metadata": {},
   "outputs": [],
   "source": [
    "#kkk = pd.read_csv('Bill.csv')\n",
    "#kkk.groupby('Контрагент').agg(['sum'])['Сумма'].head()"
   ]
  },
  {
   "cell_type": "code",
   "execution_count": 13,
   "metadata": {},
   "outputs": [
    {
     "name": "stdout",
     "output_type": "stream",
     "text": [
      "<class 'pandas.core.frame.DataFrame'>\n",
      "RangeIndex: 1928 entries, 0 to 1927\n",
      "Data columns (total 1 columns):\n",
      " #   Column         Non-Null Count  Dtype \n",
      "---  ------         --------------  ----- \n",
      " 0   Numb_no_exist  1928 non-null   object\n",
      "dtypes: object(1)\n",
      "memory usage: 15.2+ KB\n"
     ]
    }
   ],
   "source": [
    "fff = pd.read_csv('list_no_exis_numb.csv')\n",
    "fff['Numb_no_exist'].apply(str)[0]\n",
    "fff['Numb_no_exist'] = fff['Numb_no_exist'].apply(str)\n",
    "fff.info()"
   ]
  },
  {
   "cell_type": "code",
   "execution_count": 14,
   "metadata": {},
   "outputs": [
    {
     "data": {
      "text/plain": [
       "Numb_no_exist    563\n",
       "dtype: int64"
      ]
     },
     "execution_count": 14,
     "metadata": {},
     "output_type": "execute_result"
    }
   ],
   "source": [
    "fff[fff['Numb_no_exist'].str.find('996', 0, 4) != -1].count()"
   ]
  },
  {
   "cell_type": "code",
   "execution_count": 7,
   "metadata": {},
   "outputs": [
    {
     "data": {
      "text/plain": [
       "Дата            0\n",
       "Время           0\n",
       "Номер А         0\n",
       "Номер Б         0\n",
       "Контрагент      0\n",
       "Длительность    0\n",
       "Тариф           0\n",
       "Сумма           0\n",
       "dtype: int64"
      ]
     },
     "execution_count": 7,
     "metadata": {},
     "output_type": "execute_result"
    }
   ],
   "source": [
    "qqq = pd.read_csv('Bill.csv')\n",
    "qqq['Номер Б'].apply(str)[0]\n",
    "qqq['Номер Б'] = qqq['Номер Б'].apply(str)\n",
    "qqq[qqq['Номер Б'].str.find('7495', 0, 3) != -1].count()"
   ]
  },
  {
   "cell_type": "code",
   "execution_count": 16,
   "metadata": {},
   "outputs": [
    {
     "name": "stdout",
     "output_type": "stream",
     "text": [
      "563\n"
     ]
    }
   ],
   "source": [
    "with open ('Свод по тарифам(21.10.2020)11.txt', 'r', encoding='UTF8') as tariff, open ('CDR_RAW_202012241725.csv', 'r', encoding='UTF-8') as CDR:\n",
    "    next(CDR)\n",
    "    next(tariff)\n",
    "    tt = []\n",
    "    for line_1 in CDR:\n",
    "        tt.append(line_1.replace('\\\"', '').strip().split(';')[5])\n",
    "#    print(tt)\n",
    "\n",
    "    count111 = 0\n",
    "    for g in tt:\n",
    "        if g[0:3] == '996':\n",
    "            count111 += 1\n",
    "    print(count111)"
   ]
  },
  {
   "cell_type": "code",
   "execution_count": 1,
   "metadata": {},
   "outputs": [
    {
     "name": "stderr",
     "output_type": "stream",
     "text": [
      "IOPub data rate exceeded.\n",
      "The notebook server will temporarily stop sending output\n",
      "to the client in order to avoid crashing it.\n",
      "To change this limit, set the config variable\n",
      "`--NotebookApp.iopub_data_rate_limit`.\n",
      "\n",
      "Current values:\n",
      "NotebookApp.iopub_data_rate_limit=1000000.0 (bytes/sec)\n",
      "NotebookApp.rate_limit_window=3.0 (secs)\n",
      "\n"
     ]
    }
   ],
   "source": [
    "with open ('DEF-9.csv', 'r', encoding='UTF8') as DEF:\n",
    "    next(DEF)\n",
    "    def tyty_(DEF):\n",
    "        dict_DEF = {}\n",
    "        numb_def = '0000000'\n",
    "        for line_4 in DEF:\n",
    "            line_4 = line_4.strip().split(';')\n",
    "    #        print(line_4)  \n",
    "            for line_DEF in range(int(line_4[1]), int(line_4[2])):\n",
    "                yy = len(str(line_DEF))\n",
    "                numb_def = numb_def[:-(yy)] + str(line_DEF)\n",
    "                dict_DEF[numb_def] = line_4[4], line_4[5]\n",
    "        return dict_DEF\n",
    "    print(tyty_(DEF))"
   ]
  },
  {
   "cell_type": "code",
   "execution_count": 21,
   "metadata": {
    "scrolled": true
   },
   "outputs": [
    {
     "name": "stdout",
     "output_type": "stream",
     "text": [
      "Wall time: 1min 20s\n"
     ]
    }
   ],
   "source": [
    "'''%%time\n",
    "import pandas as pd\n",
    "def main():\n",
    "    with open ('Свод по тарифам(18.01.2021).txt', 'r', encoding='UTF8') as tariff, open ('CDR_RAW_202012241725.csv', 'r', encoding='UTF-8') as CDR, open ('Детализация трафика интелнет — копия.csv', 'r', encoding='UTF-8') as detail, open ('Свод по тарифам(18.01.2021) — DEF.txt', 'r', encoding='UTF-8') as DEF:\n",
    "        next(CDR)\n",
    "        next(tariff)\n",
    "        next(detail)\n",
    "        next(DEF)\n",
    "        def CDR_tariff_func(CDR, tariff, detail):\n",
    "            dict_1 = {}\n",
    "            dict_2 = {}\n",
    "            dict_4 = {}\n",
    "            dict_DEF = {}\n",
    "            count1 = 0\n",
    "            list_numb_detail = []\n",
    "            list_numb_CDR = []\n",
    "            for line_1 in CDR:\n",
    "                if len(line_1.replace('\\\"', '').strip().split(';')[5]) == 11 and line_1.replace('\\\"', '').strip().split(';')[5][0:2] != '77' and (line_1.replace('\\\"', '').strip().split(';')[5][0] == '7' or line_1.replace('\\\"', '').strip().split(';')[5][0] == '8'):\n",
    "                    numb_CDR = list(line_1.replace('\\\"', '').strip().split(';')[5])\n",
    "                    numb_CDR[0:1] = ''\n",
    "                    numb_CDR = ''.join(numb_CDR)\n",
    "                else:\n",
    "                    numb_CDR = line_1.replace('\\\"', '').strip().split(';')[5]\n",
    "                list_numb_CDR.append(numb_CDR)\n",
    "                count_numb_CDR = list_numb_CDR.count(numb_CDR)\n",
    "                dict_1[tuple(map(str, [numb_CDR, line_1.replace('\\\"', '').strip().split(';')[6], count_numb_CDR]))] = line_1.replace('\\\"', '').strip().split(';')[0], line_1.replace('\\\"', '').strip().split(';')[1], line_1.replace('\\\"', '').strip().split(';')[2], line_1.replace('\\\"', '').strip().split(';')[3], line_1.replace('\\\"', '').strip().split(';')[4], line_1.replace('\\\"', '').strip().split(';')[7]\n",
    "            \n",
    "            for line_2 in tariff:\n",
    "                dict_2[tuple(map(str, [line_2.strip().split(';')[0], line_2.strip().split(';')[4]]))] = line_2.strip().split(';')[1], line_2.strip().split(';')[2], line_2.strip().split(';')[3], line_2.strip().split(';')[4], line_2.strip().split(';')[5], line_2.strip().split(';')[6], line_2.strip().split(';')[7], line_2.strip().split(';')[8]\n",
    "            for line_3 in detail:\n",
    "                count1 += 1\n",
    "                if line_3.strip().split(';')[3][0:2] == '10':\n",
    "                    numb_detal = list(line_3.strip().split(';')[3])\n",
    "                    numb_detal[0:2] = ''\n",
    "                    numb_detal = ''.join(numb_detal)\n",
    "                else:\n",
    "                    numb_detal = line_3.strip().split(';')[3]\n",
    "                list_numb_detail.append(numb_detal)\n",
    "                count_numb_detail = list_numb_detail.count(numb_detal)\n",
    "                dict_4[tuple(map(str, [numb_detal, count_numb_detail]))] = line_3.strip().split(';')[0], line_3.strip().split(';')[1], line_3.strip().split(';')[2], line_3.strip().split(';')[4], line_3.strip().split(';')[5], line_3.strip().split(';')[6], line_3.strip().split(';')[7]\n",
    "            for line_4 in DEF:\n",
    "                dict_DEF[tuple(map(str, [line_4.strip().split(';')[0], line_4.strip().split(';')[1], line_4.strip().split(';')[5]]))] = line_4.strip().split(';')[2], line_4.strip().split(';')[3], line_4.strip().split(';')[4], line_4.strip().split(';')[6], line_4.strip().split(';')[7], line_4.strip().split(';')[8], line_4.strip().split(';')[9]\n",
    "            return {'dict_1':dict_1, 'dict_2':dict_2, 'dict_4':dict_4, 'dict_DEF':dict_DEF}\n",
    "        CDR_tariff_func1 = CDR_tariff_func(CDR, tariff, detail)\n",
    "        def list_final(CDR_tariff_func1):\n",
    "            result = {}\n",
    "            for numb_key, numb_val in CDR_tariff_func1['dict_1'].items():\n",
    "                try:\n",
    "                    result.setdefault('Направление',[]).append(CDR_tariff_func1['dict_4'][(numb_key[0], numb_key[2])][3])\n",
    "                    result.setdefault('Длительность из детализации',[]).append(CDR_tariff_func1['dict_4'][(numb_key[0], numb_key[2])][4])\n",
    "                    result.setdefault('Тариф из детализации',[]).append(CDR_tariff_func1['dict_4'][(numb_key[0], numb_key[2])][5])                    \n",
    "                    result.setdefault('Сумма из детализации',[]).append(float(CDR_tariff_func1['dict_4'][(numb_key[0], numb_key[2])][6].replace(',', '.')))\n",
    "                    result.setdefault('Номер Б из детализации',[]).append(numb_key[0])\n",
    "                except KeyError:\n",
    "                    result.setdefault('Направление',[]).append('NAN')\n",
    "                    result.setdefault('Длительность из детализации',[]).append('NAN')\n",
    "                    result.setdefault('Тариф из детализации',[]).append('NAN')\n",
    "                    result.setdefault('Сумма из детализации',[]).append('NAN')\n",
    "                    result.setdefault('Номер Б из детализации',[]).append(numb_key[0])\n",
    "                ggg = []\n",
    "                for index_numb_key in range(len(numb_key[0]), 0, -1):\n",
    "                    t = list(numb_key[0][0:index_numb_key].split())\n",
    "                    t.insert(1, numb_key[1])                                             \n",
    "                    t = tuple(t)\n",
    "                    if len(ggg)==0 and t in tuple(CDR_tariff_func1['dict_2'].keys()):\n",
    "                        ggg.append(index_numb_key)\n",
    "                        result.setdefault('Дата',[]).append(numb_val[0])\n",
    "                        result.setdefault('Время',[]).append(numb_val[3])\n",
    "                        result.setdefault('Номер А',[]).append(numb_val[4])           \n",
    "                        result.setdefault('Номер Б',[]).append(numb_key[0])\n",
    "                        result.setdefault('Контрагент',[]).append(numb_key[1])\n",
    "                        result.setdefault('Длительность',[]).append(numb_val[5])  \n",
    "                        result.setdefault('Тариф',[]).append(CDR_tariff_func1['dict_2'][t][2].replace(',', '.'))\n",
    "                        result.setdefault('Сумма',[]).append(round(float(CDR_tariff_func1['dict_2'][t][2].replace(',', '.'))*float(numb_val[5]), 2))\n",
    "                    else:\n",
    "                        for numb_key_DEF, numb_val_DEF in CDR_tariff_func1['dict_DEF'].items():\n",
    "                            if (int(numb_key_DEF[0]) < int(t[0]) < int(numb_key_DEF[1])) and t[1] == numb_key_DEF[2]:\n",
    "                                t = (numb_key_DEF[0] +','+ numb_key_DEF[1] + ',' + numb_key_DEF[2]).split(',')\n",
    "                                t = tuple(t)\n",
    "                                result.setdefault('Дата',[]).append(numb_val[0])\n",
    "                                result.setdefault('Время',[]).append(numb_val[3])\n",
    "                                result.setdefault('Номер А',[]).append(numb_val[4])           \n",
    "                                result.setdefault('Номер Б',[]).append(numb_key[0])\n",
    "                                result.setdefault('Контрагент',[]).append(numb_key[1])\n",
    "                                result.setdefault('Длительность',[]).append(numb_val[5])  \n",
    "                                result.setdefault('Тариф',[]).append(CDR_tariff_func1['dict_DEF'][t][2].replace(',', '.'))\n",
    "                                result.setdefault('Сумма',[]).append(round(float(CDR_tariff_func1['dict_DEF'][t][2].replace(',', '.'))*float(numb_val[5]), 2))\n",
    "            return result\n",
    "        fff = list_final(CDR_tariff_func1)\n",
    "        def to_frame(fff):  \n",
    "            df1 = pd.Series([],dtype=pd.StringDtype())\n",
    "            df1 = pd.Series(fff['Дата'], name='Дата')\n",
    "            df2 = pd.Series(fff['Время'], name='Время')\n",
    "            df3 = pd.Series(fff['Номер А'], name='Номер А')\n",
    "            df4 = pd.Series(fff['Номер Б'], name='Номер Б')\n",
    "            df5 = pd.Series(fff['Длительность'], name='Длительность')\n",
    "            df6 = pd.Series(fff['Контрагент'], name='Контрагент')\n",
    "            df7 = pd.Series(fff['Тариф'], name='Тариф')\n",
    "            df8 = pd.Series(fff['Сумма'], name='Сумма')\n",
    "            df9 = pd.Series(fff['Направление'], name='Напраление')\n",
    "            df10 = pd.Series(fff['Длительность из детализации'], name='Длительность из детализации')\n",
    "            df11 = pd.Series(fff['Тариф из детализации'], name='Тариф из детализации')\n",
    "            df12 = pd.Series(fff['Сумма из детализации'], name='Сумма из детализации')\n",
    "            df13 = pd.Series(fff['Номер Б из детализации'], name='Номер Б из детализации')\n",
    "            df = pd.concat([df1,df2,df3,df4,df5,df6,df7,df8,df9,df10,df11,df12,df13], axis=1)\n",
    "            df.to_excel('Billing_detail.xlsx', 'Sheet1', index=False)\n",
    "        to_frame(fff)\n",
    "main()"
   ]
  },
  {
   "cell_type": "code",
   "execution_count": 6,
   "metadata": {},
   "outputs": [],
   "source": [
    "import mysql.connector\n",
    "from mysql.connector import Error\n",
    "import pandas as pd\n",
    "import json\n",
    "import time\n",
    "from datetime import date\n",
    "from datetime import datetime\n",
    "import time\n",
    "\n",
    "def create_connection(host_name, user_name, user_password, db_name):\n",
    "    connection = None\n",
    "    try:\n",
    "        connection = mysql.connector.connect(\n",
    "            host=host_name,\n",
    "            user=user_name,\n",
    "            passwd=user_password,\n",
    "            database=db_name\n",
    "        )\n",
    "        print(\"Connection to MySQL DB successful\")\n",
    "    except Error as e:\n",
    "        print(f\"The error '{e}' occurred\")\n",
    "\n",
    "    return connection"
   ]
  },
  {
   "cell_type": "code",
   "execution_count": 7,
   "metadata": {},
   "outputs": [
    {
     "name": "stdout",
     "output_type": "stream",
     "text": [
      "Connection to MySQL DB successful\n"
     ]
    }
   ],
   "source": [
    "mydb = create_connection(\"10.10.10.250\", \"dzhalilovd\", \"ROhaproD\", \"CCM_BILLING\")"
   ]
  },
  {
   "cell_type": "code",
   "execution_count": 7,
   "metadata": {},
   "outputs": [],
   "source": [
    "query = '''select DST_NUMBER_IN as 'Проект', DATE(SETUP_TIME) as '.Дата', CONNECT_TIME, DISCONNECT_TIME, TIME(SETUP_TIME) as '.Время',\n",
    "           SRC_NUMBER_OUT as 'Номер А', DST_NUMBER_OUT as 'Номер Б', DST_NAME as 'Контрагент',\n",
    "           ROUND(TIMESTAMPDIFF(SECOND, CONNECT_TIME, DISCONNECT_TIME)/60, 2) as 'Длительность' \n",
    "           from CCM_BILLING.CDR_RAW as r WHERE r.SETUP_TIME between '2021-01-01 00:00:00' and '2021-01-31 23:59:59'\n",
    "           AND DST_NUMBER_IN LIKE '%#%' AND DST_NAME LIKE 'GW_INTELLIN' AND CONNECT_TIME > 0'''\n",
    "\n",
    "query_test = '''select *\n",
    "               from CCM_BILLING.CDR_RAW as r WHERE r.SETUP_TIME between '2021-01-01 00:00:00' and '2021-01-31 23:59:59'\n",
    "               AND DST_NUMBER_IN LIKE '2359#%' AND CONNECT_TIME > 0 '''\n",
    "\n",
    "\n",
    "df_intel_jan = pd.read_sql_query(query, con = mydb)\n"
   ]
  },
  {
   "cell_type": "code",
   "execution_count": 8,
   "metadata": {},
   "outputs": [],
   "source": [
    "df_intel_jan.to_csv('Интеллин январь 2021.csv', sep=';', encoding='utf-8', index = False)"
   ]
  },
  {
   "cell_type": "code",
   "execution_count": 8,
   "metadata": {},
   "outputs": [],
   "source": [
    "df_intel_jan = pd.read_csv('Интеллин январь 2021.csv', 'r', delimiter = ';', dtype = {'Номер А':'int64', 'Номер Б':'int64', 'Контрагент':'str', 'Длительность':'float64'}, parse_dates = ['.Дата', '.Время'])\n",
    "df_intel_jan = df_intel_jan.iloc[:, [1,4,5,6,7,8]]"
   ]
  },
  {
   "cell_type": "code",
   "execution_count": 576,
   "metadata": {},
   "outputs": [],
   "source": [
    "df_intel_jan['.Время'] = df_intel_jan['.Время'].str[7:15].copy()"
   ]
  },
  {
   "cell_type": "code",
   "execution_count": 567,
   "metadata": {},
   "outputs": [],
   "source": [
    "df_intel_jan1 = df_intel_jan.copy()"
   ]
  },
  {
   "cell_type": "code",
   "execution_count": 568,
   "metadata": {},
   "outputs": [],
   "source": [
    "df_intel_jan2['Номер Б'] = df_intel_jan1.loc[(df_intel_jan1['Номер Б'].astype(str).str.len() == 11) & (df_intel_jan1['Номер Б'].astype(str).str[0:2] != '77') & (df_intel_jan1['Номер Б'].astype(str).str[0:1] == '7'), 'Номер Б'] = df_intel_jan1['Номер Б'].astype(str).str.replace('^\\d{1}', '').copy() "
   ]
  },
  {
   "cell_type": "code",
   "execution_count": 8,
   "metadata": {},
   "outputs": [],
   "source": [
    "df_intel_jan2.head()"
   ]
  },
  {
   "cell_type": "code",
   "execution_count": 572,
   "metadata": {},
   "outputs": [],
   "source": [
    "df_intel_jan3 = df_intel_jan1.loc[(df_intel_jan1['Номер Б'].astype(str).str.len() == 11)].copy() "
   ]
  },
  {
   "cell_type": "code",
   "execution_count": 9,
   "metadata": {},
   "outputs": [],
   "source": [
    "df_intel_jan3.head()"
   ]
  },
  {
   "cell_type": "code",
   "execution_count": 5,
   "metadata": {},
   "outputs": [],
   "source": [
    "#df_intel_jan = pd.read_csv('Интеллин январь 2021.csv', 'r', delimiter = ';', dtype = {'Номер А':'int64', 'Номер Б':'int64', 'Контрагент':'str', 'Длительность':'float64'}, parse_dates = ['.Дата', '.Время'])\n",
    "#df_intel_jan = df_intel_jan.assign(count_numb_CDR=df_intel_jan.groupby(['Номер Б']).cumcount()+1)\n",
    "#df_intel_jan = df_intel_jan.iloc[:, [0,1,4,5,6,7,8,9]]\n",
    "#df_intel_jan['.Время'] = df_intel_jan['.Время'].str[7:15].copy()\n",
    "#df_intel_jan1 = df_intel_jan.copy()\n",
    "#df_intel_jan1['Номер Б'] = df_intel_jan1.loc[(df_intel_jan1['Номер Б'].astype(str).str.len() == 11) & (df_intel_jan1['Номер Б'].astype(str).str[0:2] != '77') & (df_intel_jan1['Номер Б'].astype(str).str[0:1] == '7'), 'Номер Б'] = df_intel_jan1['Номер Б'].astype(str).str.replace('^\\d{1}', '').copy()\n",
    "#df_intel_jan1.loc[df_intel_jan1['Номер Б'].astype(str).str.len() == 10, 'Группа направлений'] = 'РФ'\n",
    "#df_intel_jan1.loc[df_intel_jan1['Номер Б'].astype(str).str.len() != 10, 'Группа направлений'] = 'не РФ'\n",
    "#dict_1 = df_intel_jan1.set_index(['Номер Б', 'Контрагент', 'count_numb_CDR']).T.to_dict('list')\n",
    "#dict_1\n",
    "#rrr.keys()"
   ]
  },
  {
   "cell_type": "code",
   "execution_count": 6,
   "metadata": {},
   "outputs": [],
   "source": [
    "#df_tariff = pd.read_csv('Свод по тарифам(18.01.2021) — копия.txt', 'r', delimiter = ';', dtype = {'Код1':'int64', 'Код2':'int64', 'Контрагент':'str'})\n",
    "#df_tariff = df_tariff.iloc[:, [0,2,3,4,5,6,7,8,9,10]]\n",
    "#df_tariff.info()\n",
    "#dict_2 = df_tariff.set_index(['Код1', 'Контрагент', 'Группа направлений']).T.to_dict('list')\n",
    "#dict_2"
   ]
  },
  {
   "cell_type": "code",
   "execution_count": 7,
   "metadata": {},
   "outputs": [],
   "source": [
    "#df_detail = pd.read_csv('Свод по тарифам(18.01.2021) — DEF.txt', 'r', delimiter = ';')\n",
    "#dict_DEF = df_detail.set_index(['Код1', 'Код2', 'Контрагент']).T.to_dict('list')\n",
    "#dict_DEF"
   ]
  },
  {
   "cell_type": "code",
   "execution_count": null,
   "metadata": {},
   "outputs": [],
   "source": [
    "df1 = pd.DataFrame({\"user_id\":[1,2,3], \"rating\":[10, 15, 20]})\n",
    "df2 = pd.DataFrame({\"user_id\":[3,4,5], \"rating\":[30, 35, 40]})\n",
    "df4 = df[['user_id', 'rating_1']].rename(columns={'rating_1':'rating'})\n",
    "df = pd.merge(df1, df2, on='user_id', suffixes=['_1', '_2'])\n",
    "df3 = df[['user_id', 'rating_1']].rename(columns={'rating_1':'rating'})\n",
    "df4 = df[['user_id', 'rating_2']].rename(columns={'rating_2':'rating'})\n",
    "pd.concat([df3, df4], axis=0) user_id rating 0 3 20 0 3 30"
   ]
  },
  {
   "cell_type": "code",
   "execution_count": 278,
   "metadata": {},
   "outputs": [],
   "source": [
    "df1 = pd.DataFrame({\"user_id\":[1,2,3], \"rating\":[10, 15, 20]})\n",
    "df2 = pd.DataFrame({\"user_id\":[3,4,5], \"rating\":[30, 35, 40]})"
   ]
  },
  {
   "cell_type": "code",
   "execution_count": 296,
   "metadata": {},
   "outputs": [
    {
     "data": {
      "text/html": [
       "<div>\n",
       "<style scoped>\n",
       "    .dataframe tbody tr th:only-of-type {\n",
       "        vertical-align: middle;\n",
       "    }\n",
       "\n",
       "    .dataframe tbody tr th {\n",
       "        vertical-align: top;\n",
       "    }\n",
       "\n",
       "    .dataframe thead th {\n",
       "        text-align: right;\n",
       "    }\n",
       "</style>\n",
       "<table border=\"1\" class=\"dataframe\">\n",
       "  <thead>\n",
       "    <tr style=\"text-align: right;\">\n",
       "      <th></th>\n",
       "      <th>user_id</th>\n",
       "      <th>rating</th>\n",
       "    </tr>\n",
       "  </thead>\n",
       "  <tbody>\n",
       "    <tr>\n",
       "      <th>0</th>\n",
       "      <td>1</td>\n",
       "      <td>10</td>\n",
       "    </tr>\n",
       "    <tr>\n",
       "      <th>1</th>\n",
       "      <td>2</td>\n",
       "      <td>15</td>\n",
       "    </tr>\n",
       "    <tr>\n",
       "      <th>2</th>\n",
       "      <td>3</td>\n",
       "      <td>20</td>\n",
       "    </tr>\n",
       "  </tbody>\n",
       "</table>\n",
       "</div>"
      ],
      "text/plain": [
       "   user_id  rating\n",
       "0        1      10\n",
       "1        2      15\n",
       "2        3      20"
      ]
     },
     "execution_count": 296,
     "metadata": {},
     "output_type": "execute_result"
    }
   ],
   "source": [
    "df1"
   ]
  },
  {
   "cell_type": "code",
   "execution_count": 297,
   "metadata": {},
   "outputs": [
    {
     "data": {
      "text/html": [
       "<div>\n",
       "<style scoped>\n",
       "    .dataframe tbody tr th:only-of-type {\n",
       "        vertical-align: middle;\n",
       "    }\n",
       "\n",
       "    .dataframe tbody tr th {\n",
       "        vertical-align: top;\n",
       "    }\n",
       "\n",
       "    .dataframe thead th {\n",
       "        text-align: right;\n",
       "    }\n",
       "</style>\n",
       "<table border=\"1\" class=\"dataframe\">\n",
       "  <thead>\n",
       "    <tr style=\"text-align: right;\">\n",
       "      <th></th>\n",
       "      <th>user_id</th>\n",
       "      <th>rating</th>\n",
       "    </tr>\n",
       "  </thead>\n",
       "  <tbody>\n",
       "    <tr>\n",
       "      <th>0</th>\n",
       "      <td>3</td>\n",
       "      <td>30</td>\n",
       "    </tr>\n",
       "    <tr>\n",
       "      <th>1</th>\n",
       "      <td>4</td>\n",
       "      <td>35</td>\n",
       "    </tr>\n",
       "    <tr>\n",
       "      <th>2</th>\n",
       "      <td>5</td>\n",
       "      <td>40</td>\n",
       "    </tr>\n",
       "  </tbody>\n",
       "</table>\n",
       "</div>"
      ],
      "text/plain": [
       "   user_id  rating\n",
       "0        3      30\n",
       "1        4      35\n",
       "2        5      40"
      ]
     },
     "execution_count": 297,
     "metadata": {},
     "output_type": "execute_result"
    }
   ],
   "source": [
    "df2"
   ]
  },
  {
   "cell_type": "code",
   "execution_count": 298,
   "metadata": {},
   "outputs": [
    {
     "data": {
      "text/html": [
       "<div>\n",
       "<style scoped>\n",
       "    .dataframe tbody tr th:only-of-type {\n",
       "        vertical-align: middle;\n",
       "    }\n",
       "\n",
       "    .dataframe tbody tr th {\n",
       "        vertical-align: top;\n",
       "    }\n",
       "\n",
       "    .dataframe thead th {\n",
       "        text-align: right;\n",
       "    }\n",
       "</style>\n",
       "<table border=\"1\" class=\"dataframe\">\n",
       "  <thead>\n",
       "    <tr style=\"text-align: right;\">\n",
       "      <th></th>\n",
       "      <th>user_id</th>\n",
       "      <th>rating_1</th>\n",
       "      <th>rating_2</th>\n",
       "    </tr>\n",
       "  </thead>\n",
       "  <tbody>\n",
       "    <tr>\n",
       "      <th>0</th>\n",
       "      <td>3</td>\n",
       "      <td>20</td>\n",
       "      <td>30</td>\n",
       "    </tr>\n",
       "  </tbody>\n",
       "</table>\n",
       "</div>"
      ],
      "text/plain": [
       "   user_id  rating_1  rating_2\n",
       "0        3        20        30"
      ]
     },
     "execution_count": 298,
     "metadata": {},
     "output_type": "execute_result"
    }
   ],
   "source": [
    "df = pd.merge(df1, df2, on='user_id', suffixes=['_1', '_2'])\n",
    "df"
   ]
  },
  {
   "cell_type": "code",
   "execution_count": 294,
   "metadata": {},
   "outputs": [
    {
     "data": {
      "text/html": [
       "<div>\n",
       "<style scoped>\n",
       "    .dataframe tbody tr th:only-of-type {\n",
       "        vertical-align: middle;\n",
       "    }\n",
       "\n",
       "    .dataframe tbody tr th {\n",
       "        vertical-align: top;\n",
       "    }\n",
       "\n",
       "    .dataframe thead th {\n",
       "        text-align: right;\n",
       "    }\n",
       "</style>\n",
       "<table border=\"1\" class=\"dataframe\">\n",
       "  <thead>\n",
       "    <tr style=\"text-align: right;\">\n",
       "      <th></th>\n",
       "      <th>user_id</th>\n",
       "      <th>rating</th>\n",
       "    </tr>\n",
       "  </thead>\n",
       "  <tbody>\n",
       "    <tr>\n",
       "      <th>0</th>\n",
       "      <td>3</td>\n",
       "      <td>30</td>\n",
       "    </tr>\n",
       "  </tbody>\n",
       "</table>\n",
       "</div>"
      ],
      "text/plain": [
       "   user_id  rating\n",
       "0        3      30"
      ]
     },
     "execution_count": 294,
     "metadata": {},
     "output_type": "execute_result"
    }
   ],
   "source": [
    "df4 = df[['user_id', 'rating_1']].rename(columns={'rating_1':'rating'})\n",
    "df4 = df[['user_id', 'rating_2']].rename(columns={'rating_2':'rating'})\n",
    "df4"
   ]
  },
  {
   "cell_type": "code",
   "execution_count": 295,
   "metadata": {},
   "outputs": [
    {
     "data": {
      "text/html": [
       "<div>\n",
       "<style scoped>\n",
       "    .dataframe tbody tr th:only-of-type {\n",
       "        vertical-align: middle;\n",
       "    }\n",
       "\n",
       "    .dataframe tbody tr th {\n",
       "        vertical-align: top;\n",
       "    }\n",
       "\n",
       "    .dataframe thead th {\n",
       "        text-align: right;\n",
       "    }\n",
       "</style>\n",
       "<table border=\"1\" class=\"dataframe\">\n",
       "  <thead>\n",
       "    <tr style=\"text-align: right;\">\n",
       "      <th></th>\n",
       "      <th>user_id</th>\n",
       "      <th>rating</th>\n",
       "    </tr>\n",
       "  </thead>\n",
       "  <tbody>\n",
       "    <tr>\n",
       "      <th>0</th>\n",
       "      <td>3</td>\n",
       "      <td>20</td>\n",
       "    </tr>\n",
       "  </tbody>\n",
       "</table>\n",
       "</div>"
      ],
      "text/plain": [
       "   user_id  rating\n",
       "0        3      20"
      ]
     },
     "execution_count": 295,
     "metadata": {},
     "output_type": "execute_result"
    }
   ],
   "source": [
    "df3 = df[['user_id', 'rating_1']].rename(columns={'rating_1':'rating'})\n",
    "df3"
   ]
  },
  {
   "cell_type": "code",
   "execution_count": null,
   "metadata": {},
   "outputs": [],
   "source": []
  }
 ],
 "metadata": {
  "kernelspec": {
   "display_name": "Python 3",
   "language": "python",
   "name": "python3"
  },
  "language_info": {
   "codemirror_mode": {
    "name": "ipython",
    "version": 3
   },
   "file_extension": ".py",
   "mimetype": "text/x-python",
   "name": "python",
   "nbconvert_exporter": "python",
   "pygments_lexer": "ipython3",
   "version": "3.8.3"
  }
 },
 "nbformat": 4,
 "nbformat_minor": 4
}
